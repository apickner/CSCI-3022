{
 "cells": [
  {
   "cell_type": "markdown",
   "metadata": {},
   "source": [
    "\n",
    "\n",
    "\n",
    "\n",
    "\n",
    "<a id='top'></a>\n",
    "\n",
    "# Homework 2: Introduction to Probability and Simulation\n",
    "***\n",
    "\n",
    "**Name**: \n",
    "\n",
    "***\n",
    "\n",
    "This assignment is due on Canvas by **MIDNIGHT on Friday September 27**. Your solutions to theoretical questions should be done in Markdown directly below the associated question.  Your solutions to computational questions should include any specified Python code and results as well as written commentary on your conclusions.  Remember that you are encouraged to discuss the problems with your classmates, but **you must write all code and solutions on your own**.\n",
    "\n",
    "**NOTES**: \n",
    "\n",
    "- Any relevant data sets should be available under the **Data** module on Canvas. To make life easier on the graders if they need to run your code, do not change the relative path names here. Instead, move the files around on your computer.\n",
    "- If you're not familiar with typesetting math directly into Markdown then by all means, do your work on paper first and then typeset it later.  Remember that there is a [reference guide](https://math.meta.stackexchange.com/questions/5020/mathjax-basic-tutorial-and-quick-reference) linked on Canvas on writing math in Markdown. **All** of your written commentary, justifications and mathematical work should be in Markdown.\n",
    "- Because you can technically evaluate notebook cells is a non-linear order, it's a good idea to do Kernel $\\rightarrow$ Restart & Run All as a check before submitting your solutions.  That way if we need to run your code you will know that it will work as expected. \n",
    "- It is **bad form** to make your reader interpret numerical output from your code.  If a question asks you to compute some value from the data you should show your code output **AND** write a summary of the results in Markdown directly below your code. \n",
    "- This probably goes without saying, but... For any question that asks you to calculate something, you **must show all work and justify your answers to receive credit**. Sparse or nonexistent work will receive sparse or nonexistent credit. \n",
    "\n",
    "---\n",
    "**Shortcuts:**  [Problem 1](#p1) | [Problem 2](#p2) | [Problem 3](#p3) | [Problem 4](#p4) | [Problem 5](#p5) \n",
    "\n",
    "---"
   ]
  },
  {
   "cell_type": "code",
   "execution_count": 1,
   "metadata": {},
   "outputs": [],
   "source": [
    "import pandas as pd\n",
    "import numpy as np\n",
    "import matplotlib.pylab as plt\n",
    "%matplotlib inline"
   ]
  },
  {
   "cell_type": "markdown",
   "metadata": {},
   "source": [
    "***\n",
    "<a/ id='p1'></a>\n",
    "[Back to top](#top)\n",
    "\n",
    "### [20 points] Problem 1\n",
    "\n",
    "To play a game, you have a bag containing 30 fair six-sided dice, with faces `{1,2,3,4,5,6}`.  <img style=\"float: right; width: 200px; padding: 3mm;\" src=\"https://images-na.ssl-images-amazon.com/images/I/619NZnvxJaL._SX425_.jpg\" alt=\"Drawing\"/>\n",
    "This bag also contains 17 fair eight-sided dice (faces `{1,2,3,4,5,6,7,8}`) and 3 fair twenty-sided dice (faces `{1,2,3,4,...,19,20}`).  Call these 3 classes of die \"Six\", \"Eight\" and \"Twenty\" (or S, E, and T, for short). In order to be sure that you are not distinguishing dice by their feel, you are required to wear crab claw gloves. After donning your gloves, you grab one die at random from the bag. \n",
    "\n",
    "Work the following problems by hand (or claw) unless otherwise stated (but don't be afraid to simulate to check your result!). "
   ]
  },
  {
   "cell_type": "markdown",
   "metadata": {},
   "source": [
    "**Part A**: You roll your die one time.  What is the probability of the event $R_7$, that you roll a 7?  Include at least 4 decimal places in your answer."
   ]
  },
  {
   "cell_type": "code",
   "execution_count": 2,
   "metadata": {},
   "outputs": [],
   "source": [
    "S = np.array([1,2,3,4,5,6])\n",
    "E = np.array([1,2,3,4,5,6,7,8])\n",
    "T = np.array([1,2,3,4,5,6,7,8,9,10,11,12,13,14,15,16,17,18,19,20])\n",
    "\n",
    "bags_of_dice = {\"die\": np.array([S, E, T]), \"probs\": np.array([0.6, 0.34, 0.06])}\n",
    "\n",
    "def roll_dice(dice):\n",
    "    dice = np.random.choice(dice[\"die\"], p=dice[\"probs\"])\n",
    "    roll = np.random.choice(dice)\n",
    "    return roll\n",
    "\n",
    "def simulate(dice, num, num_trials):\n",
    "    rolls = np.array([roll_dice(dice) for i in range(num_trials)])\n",
    "    return np.sum(rolls == num) / num_trials"
   ]
  },
  {
   "cell_type": "code",
   "execution_count": 3,
   "metadata": {},
   "outputs": [
    {
     "data": {
      "text/plain": [
       "0.04612"
      ]
     },
     "execution_count": 3,
     "metadata": {},
     "output_type": "execute_result"
    }
   ],
   "source": [
    "simulate(bags_of_dice, 7, 100000)"
   ]
  },
  {
   "cell_type": "markdown",
   "metadata": {},
   "source": [
    "If we choose the six-sided, we have a probability of $0$ to roll a $7$. If we choose one of the eight-sided die, then we have a probability of $0.125$ to roll a $7$. And lastly, if we roll the twenty-sided die, we have a probability of $0.05$. Since we have different probabilities of choosing each respective die, we have to multiply the probabilities of choosing each die by the probability of choosing a $7$ given the die we chose.\n",
    "\n",
    "The probability of rolling a 7 is given by:\n",
    "\n",
    "$P(R_7) = (0.6)\\cdot(0.0)+(0.34)\\cdot(0.125)+(0.06)\\cdot(0.05) = 0 + 0.0425 + 0.003 = 0.0455$\n",
    "\n",
    "This is incredibly close to what I've computed in my simulation above.\n",
    "\n",
    "Alternatively, we could compute the converse of what we did above and use the law of total probabilities to compute our value. \n",
    "\n",
    "$P(R_{!7}) = (0.6)\\cdot(1)+(0.34)\\cdot(0.875)+(0.06)\\cdot(0.95) = 0.6 + 0.2975 + 0.057 = 0.9545$\n",
    "\n",
    "And then using the law of total probability, we would get our value by:\n",
    "\n",
    "$P(R_7) = 1 - P(R_{!7}) = 0.0455$\n",
    "\n",
    "which matches what we did in our first method. This also matches our simulation above!!!"
   ]
  },
  {
   "cell_type": "markdown",
   "metadata": {},
   "source": [
    "**Part B**: Suppose you roll a 7.  What is the probability that the die you chose from the bag is an Eight-sided die? "
   ]
  },
  {
   "cell_type": "markdown",
   "metadata": {},
   "source": [
    "We would write the sentence above as: $P(E\\ |\\ R_7)$. We have a different probability of rolling a $7$ with each different die. For example, $P(R_7\\ |\\ S)=0$, $P(R_7\\ |\\ E)=0.125$, and $P(R_7\\ |\\ T)=0.05$. However, we also have different probabilities of choosing the different die. \n",
    "\n",
    "$P(E\\ |\\ R_7) = \\frac{P(E\\ \\cap\\ R_7)}{R_7} = \\frac{P(E)\\cdot P(R_7)}{P(R_7)} = \\frac{(0.34)(0.125)}{0.0455}=\\frac{0.0425}{0.0455}=0.9341$\n",
    "\n",
    "$P(T\\ |\\ R_7) = \\frac{P(T\\ \\cap\\ R_7)}{R_7} = \\frac{P(T)\\cdot P(R_7)}{P(R_7)} = \\frac{(0.06)(0.05)}{0.0455}=\\frac{0.003}{0.0455}=0.0659$\n",
    "\n",
    "$0.9341+0.0659=1$, and this checks out because there is a probability of $0$ of rolling a $7$ with the six-sided die.\n",
    "\n",
    "$P(E\\ |\\ R_7)=0.9341$"
   ]
  },
  {
   "cell_type": "markdown",
   "metadata": {},
   "source": [
    "**Part C:**  Are the events $R_7$ and $E$ independent?  Justify your answer **using math**."
   ]
  },
  {
   "cell_type": "markdown",
   "metadata": {},
   "source": [
    "For sanity's sake, I'll answer this question in English first. Because the probability of rolling a $7$ changes based on which die we choose, and because the probability of choosing a specific die changes based on what value we rolled, we have dependent events.\n",
    "\n",
    "As for showing this with math, we need to show that 1 of the following three tests is true:\n",
    "\n",
    "**1.)** $P(A\\ |\\ B) = P(A)$\n",
    "\n",
    "**2.)** $P(B\\ |\\ A) = P(B)$\n",
    "\n",
    "**3.)** $P(A\\ \\cap\\ B) = P(A)\\cdot P(B)$\n",
    "\n",
    "I'll actually show that **1 and 2** don't hold true, thus showing that the events $R_7$ and $E$ are *dependent*:\n",
    "\n",
    "$\\boxed{P(R_7\\ |\\ E) = 0.125 \\neq 0.0455 = P(R_7)}$ \n",
    "\n",
    "$\\boxed{P(E\\ |\\ R_7) = 0.9341 \\neq 0.34 = P(E)}$ "
   ]
  },
  {
   "cell_type": "markdown",
   "metadata": {},
   "source": [
    "**Part D:**  Suppose you roll your die $n$ times and record each outcome.  Obviously, if you roll 7 or 8 you know you did *not* pick a Six-sided die, and if you roll a 9 or higher, you must have picked a Twenty-sided die.\n",
    "\n",
    "But, if you roll $n$ times in a row and get only 1, 2, 3, 4, 5, or 6 you would have a stronger belief that you in fact grabbed one of the Six-sided dice.  Let $L_n$ be the event that you roll $n$ rolls of 1, 2, 3, 4, 5, or 6 in a row.  For example, one outcome in $L_3$ is the sequence 2, 3, 1.\n",
    "\n",
    "Given that you roll a single value of 1, 2, 3, 4, 5, or 6, what is the probability that you have grabbed a Six-sided die?  That is, calculate **by hand** $P(S \\mid L_1)$."
   ]
  },
  {
   "cell_type": "markdown",
   "metadata": {},
   "source": [
    "Given we have rolled a $1-6$, we would have a probability of 1 if we used the six sided die. We would have a probability of $\\frac{3}{4}$ of rolling a $1-6$ with the eight sided die. And finally, we would have a probability of $\\frac{3}{10}$ of rolling a $1-6$ with the twenty sided die. Next, we have different probabilities for rolling the different die. This gives us the prob for L_1:\n",
    "\n",
    "$P(L_1) = (0.6)\\cdot (1) + (0.34)\\cdot (0.75) + (0.06)\\cdot (0.3) = 0.6 + 0.255 + 0.018 = 0.873$\n",
    "\n",
    "Using Bayes Thm., we could also get:\n",
    "\n",
    "$P(S \\mid L_1) = \\frac{P(L_1 \\mid S)\\cdot P(S)}{P(L_1)} = \\frac{(1)\\cdot (0.6)}{0.873}$\n",
    "\n",
    "And we can check our probability above by checking what the probability is of rolling the E or T die given that we have rolled a $1-6$:\n",
    "\n",
    "$P((E \\cup T) \\mid L_1) = (0.6)\\cdot (0) + (0.34)\\cdot (0.25) + (0.06)\\cdot (0.7) = 0.0 + 0.085 + 0.042 = 0.127$\n",
    "\n",
    "And using the law of total probability, we get:\n",
    "\n",
    "$1 - P(S \\mid L_1) = P((E \\cup T) \\mid L_1) == 1 - 0.873 = 0.127$\n",
    "\n",
    "So the probability we roll a $1-6$ is given by $0.873$. The probability we rolled the six-sided die given we rolled a $1-6$ is given by: $\\frac{0.6}{0.873} = 0.687$"
   ]
  },
  {
   "cell_type": "markdown",
   "metadata": {},
   "source": [
    "**Part E**:  \n",
    "\n",
    "First, work out **by hand** a formula for the probability in general that you are rolling a Six-sided die, given that you have rolled $n$ values in a row that are 1, 2, 3, 4, 5 or 6 (that is, $L_n$).  So you want a formula for $P(S \\mid L_n)$ in terms of $n$.\n",
    "\n",
    "Then, define a function `prob_six` to calculate $P(S \\mid L_n)$.  This function should only take one positive integer argument, $n$.\n",
    "\n",
    "Verify that your function is performing as expected by checking your answer to **Part D**."
   ]
  },
  {
   "cell_type": "markdown",
   "metadata": {},
   "source": [
    "Initial intuition:\n",
    "\n",
    "$L_n = (0.687)^n$\n",
    "\n",
    "~ or ~\n",
    "\n",
    "$f(x) = 0.687^x$\n",
    "\n",
    "Next thoughts: (Bayes Thm.)\n",
    "\n",
    "$P(S\\mid L_n) = \\frac{P(L_n\\mid S)\\cdot P(S)}{P(L_n)} = \\frac{0.6}{0.873^n}$\n",
    "\n",
    "Then, I tried a method of addition in the denominator:\n",
    "\n",
    "$P(S\\mid L_n) = \\frac{0.6}{(0.6)(1)^n+(0.34)(0.75)^n+(0.06)(0.3)^n}$"
   ]
  },
  {
   "cell_type": "code",
   "execution_count": 4,
   "metadata": {},
   "outputs": [],
   "source": [
    "def prob_six(n): #Your code goes here.\n",
    "    numer = 0.6\n",
    "    x1 = 0.6\n",
    "    x2 = (0.75 ** n) * (0.34)\n",
    "    x3 = (0.3 ** n) * (0.06)\n",
    "    denom = x1+x2+x3\n",
    "    return numer / denom"
   ]
  },
  {
   "cell_type": "markdown",
   "metadata": {},
   "source": [
    "**Part F:**  What is the smallest value of $n$ successive rolls of 1, 2, 3, 4, 5 or 6 that would make you believe that there's a better-than-95% chance that the die you grabbed is Six-sided?  Plugging larger and larger values for $n$ into your `prob_six` function is a very reasonable way to check this."
   ]
  },
  {
   "cell_type": "code",
   "execution_count": 5,
   "metadata": {},
   "outputs": [
    {
     "name": "stdout",
     "output_type": "stream",
     "text": [
      "1 = 0.6872852233676976\n",
      "2 = 0.7531538316701186\n",
      "3 = 0.8053069729517521\n",
      "4 = 0.8473808781090273\n",
      "5 = 0.8812780492557869\n",
      "6 = 0.9083251148952147\n",
      "7 = 0.929659421687253\n",
      "8 = 0.9463090613586363\n",
      "\n",
      "Look! The the min value is below!\n",
      "\n",
      "9 = 0.9591866491403235\n",
      "10 = 0.9690752747517922\n",
      "11 = 0.9766259989076987\n",
      "12 = 0.9823665345003605\n",
      "13 = 0.9867163649261432\n",
      "14 = 0.990004085181827\n",
      "15 = 0.9924842843879131\n",
      "16 = 0.9943526028704702\n",
      "17 = 0.9957584639350022\n",
      "18 = 0.9968154711854799\n",
      "19 = 0.9976097004119685\n"
     ]
    }
   ],
   "source": [
    "#Code to determine smallest value of n\n",
    "for i in range(1,20):\n",
    "    if i == 9:\n",
    "        print(\"\\nLook! The the min value is below!\\n\")\n",
    "    print(\"{} = {}\".format(i, prob_six(i)))"
   ]
  },
  {
   "cell_type": "markdown",
   "metadata": {},
   "source": [
    "From the data above, it appears 9 rolls would be the minimum number of rolls to have above a 95% chance that the die you grabbed was a six."
   ]
  },
  {
   "cell_type": "markdown",
   "metadata": {},
   "source": [
    "***\n",
    "<a id='p2'></a>\n",
    "[Back to top](#top)\n",
    "\n",
    "\n",
    "### [20 points] Problem 2\n",
    "\n",
    "Oscar and Stella are two octopuses who are very excited to have both secured professorships in the Computer Science department at CU. They work hard, but they also like to blow off a little steam after work. When they leave work from the CU Engineering Center ($E~$), they each head for one of five other locations: the Gym to get strong ($G~$), the Library to get learned ($L~$), the Boulder Reservoir to have a nice swim ($R$), the Hill to have a sandwich ($H~$), or to Brewing Market to have a nice Coffee ($C~$).  \n",
    "\n",
    "Here are some rules governing their movements throughout the fair city of Boulder:\n",
    "* When Oscar and/or Stella is leaving one location, they randomly select one of the available adjacent locations, with equal probability.\n",
    "* This includes back-tracking. Eg. Stella could go from the Engineering Center to the Library, then directly back to the Engineering Center. \n",
    "* Assume that all moves require the same amount of time.\n",
    "* They are also not allowed to stay put; they always must move to some *other* adjacent location.\n",
    "* Oscar and Stella, being the think-for-yourselfers that they are, also act **independently** of one another. That is, the probability that Oscar goes from one place to another is independent of the probability of Stella's movements.\n",
    "\n",
    "<img src=\"http://www.cs.colorado.edu/~tonyewong/home/resources/chris_and_dan_statespace.png\" style=\"width: 300px;\"/>"
   ]
  },
  {
   "cell_type": "markdown",
   "metadata": {},
   "source": [
    "**Part A**: Oscar is exhausted from a long day of researching whether [P=NP](https://en.wikipedia.org/wiki/P_versus_NP_problem) so, naturally, he wants to go to the brewing market to grab a coffee. That being said, Oscar has made a break through in his research and wants to follow up on it at the library, but he needs to run some errands too. Assume Oscar can do his errands at any location on the map. \n",
    "\n",
    "Compute by hand the probability that Oscar goes to the Brewing Market ($C$) in his first stop, makes a second stop at any location, then goes to the Library ($L$) third. "
   ]
  },
  {
   "cell_type": "markdown",
   "metadata": {},
   "source": [
    "Well for starters, I will define $S_{uccess}=\\text{the event that Oscar goes from (E) to (C) to any other stop (besides (L)) and finally to (L)}$\n",
    "\n",
    "I'll define $C_1=\\text{the event Oscar goes to the brewing market first.}$ We'll eventually see that $P(C_1)=0.25$\n",
    "\n",
    "I'll also define $EL_2=\\text{the event Oscar either goes to H or E (from C).}$ We'll later see that $P(EL_2)=\\frac{2}{3}$, but this presents an issue...\n",
    "\n",
    "Given Oscar starts at the engineering center (E), he has 4 places he can go to next, one of which being the Brewing market (C), this is event $C_1$. Oscar has a probability of $\\frac{1}{4} = 0.25$ of going to the coffe shop first, this is $P(C_1)$. From there, we have a possibility of going to (H), (L), and (E). However, if we go to the library next, we cannot just stay-put so this would cause our event $S_{uccess}$ to fail. This means that we have a probability of $\\frac{2}{3}$ of choosing either (H) or (E), the event $EL_2$. However, we run into a little bit of a problem here... Since Oscar's movements are random at each step, we can set up our equation like so:\n",
    "\n",
    "$P(S_{uccess})=\\frac{1}{4}\\cdot \\frac{1}{3}\\cdot \\frac{1}{3}+\\frac{1}{4}\\cdot \\frac{1}{3}\\cdot \\frac{1}{4} = \\frac{1}{36}+\\frac{1}{48} = \\frac{4}{144}+\\frac{3}{144} = \\frac{7}{144} = 0.0486$"
   ]
  },
  {
   "cell_type": "markdown",
   "metadata": {},
   "source": [
    "**Part B**: Stella is a competitive body-building octopus professor. This is quite the feat given her lack of bones!  Compute (by hand) the probability that Stella ends up at the Gym _either_ as her first _or_ second location visited after leaving the Engineering Center ($E$). (Again, assume that Stella wanders the streets of Boulder randomly using the same rules described above.)"
   ]
  },
  {
   "cell_type": "markdown",
   "metadata": {},
   "source": [
    "To solve this problem, I enumerated each possible walk Stella would end up at the gym either first or second. This got me the list: [EGR, EGL, EGE, EGH, ERG, ELG]. From here, I did much of what I did in the first part of this problem. \n",
    "\n",
    "$P(S_{uccess}) = \\text{Stella starts at E and goes to the gym either first or second, i.e.: her walk is in our list of successful walks above}$\n",
    "\n",
    "$P(EGR) = \\frac{1}{4} \\cdot \\frac{1}{4} = \\frac{1}{16}$\n",
    "\n",
    "$P(EGL) = \\frac{1}{4} \\cdot \\frac{1}{4} = \\frac{1}{16}$\n",
    "\n",
    "$P(EGE) = \\frac{1}{4} \\cdot \\frac{1}{4} = \\frac{1}{16}$\n",
    "\n",
    "$P(EGH) = \\frac{1}{4} \\cdot \\frac{1}{4} = \\frac{1}{16}$\n",
    "\n",
    "$P(ERG) = \\frac{1}{4} \\cdot \\frac{1}{2} = \\frac{2}{16}$\n",
    "\n",
    "$P(ELG) = \\frac{1}{4} \\cdot \\frac{1}{4} = \\frac{1}{16}$\n",
    "\n",
    "$P(S_{uccess}) = P(EGR) + P(EGL) + P(EGE) + P(EGH) + P(ERG) + P(ELG) = \\frac{1}{16} + \\frac{1}{16} + \\frac{1}{16} + \\frac{2}{16} + \\frac{1}{16} = \\frac{7}{16} = 0.4375$"
   ]
  },
  {
   "cell_type": "markdown",
   "metadata": {},
   "source": [
    "**Part C**: Suppose that Stella works late at the Engineering Center, while Oscar goes to the Gym.  Later, they both leave and wander around, randomly and independently of one another, as described above.\n",
    "1. What is the probability that they run into each other in the same location on the first location visited?  \n",
    "2. Given their two initial locations, what is the probability that they meet at the Hill after 2 moves?"
   ]
  },
  {
   "cell_type": "markdown",
   "metadata": {},
   "source": [
    "**1.** So for the first half of this problem, we only have two possibilities: That Oscar goes from E to R and Stella goes from G to R, or that Oscar goes from E to L and Stella goes from G to L. The probability that Oscar goes from E to R or E to L is both $\\frac{1}{4}$ respectively. The same goes for both of Stella's successful options. Since Both ER and GR have to occur at the same time to be successful, and because both events are independent, we must multiply their probabilities together resulting in a $\\frac{1}{16}$ chance of Oscar and Stella meeting at R given their starting locations. We have the same probability of them both going to L given their starting location, and because both of these cases are successful, we add them. Overall, we have a probability of 0.125 of Oscar and Stella ending up at the same place given their starting locations.\n",
    "\n",
    "**2.** For the second half of the problem, I decided to take a peek at Oscar and Stella individually. Oscar has three possible walks to get to the hill and Stella has one. Given this information, we have three possible outcomes: Oscar has one of his three successful outcomes occur while Stella simultaneously has her successful outcome occur.\n",
    "\n",
    "$P(ELH \\cap GLH) = \\frac{1}{16} \\cdot \\frac{1}{16} = \\frac{1}{256}$\n",
    "\n",
    "$P(EGH \\cap GLH) = \\frac{1}{16} \\cdot \\frac{1}{16} = \\frac{1}{256}$\n",
    "\n",
    "$P(ECH \\cap GLH) = \\frac{1}{16} \\cdot \\frac{1}{16} = \\frac{1}{256}$\n",
    "\n",
    "$P(S_{uccess}) = P(ELH \\cap GLH) + P(EGH \\cap GLH) + P(ECH \\cap GLH) = \\frac{3}{256} = 0.011718$"
   ]
  },
  {
   "cell_type": "markdown",
   "metadata": {},
   "source": [
    "**Part D**: Write a simulation to confirm that your by-hand calculations in **Part A**, **Part B**, and **Part C** are correct. Make sure you run your simulations for enough trials that your estimates are reasonably close to your analytic results. In addition to showing your code, you should explain in Markdown (not just in code comments) what your code is doing and why it is a reasonable approximation of the probabilities in **Part A**, **Part B**, and **Part C**.  "
   ]
  },
  {
   "cell_type": "code",
   "execution_count": 6,
   "metadata": {},
   "outputs": [],
   "source": [
    "graph = {'H': np.array(['G', 'L', 'C']), \n",
    "         'G': np.array(['H', 'L', 'E', 'R']), \n",
    "         'R': np.array(['G', 'E']), \n",
    "         'L': np.array(['H', 'G', 'E', 'C']), \n",
    "         'E': np.array(['G','L','C','R']), \n",
    "         'C': np.array(['H', 'L', 'E'])\n",
    "        }\n",
    "\n",
    "'''\n",
    "takes as input:\n",
    "    g: a graph implemented as a dictionary with numpy array adj list\n",
    "    n: length of the random walk\n",
    "    start: the starting node where each walk should start from.\n",
    "output:\n",
    "    the string of nodes in the random walk of length n\n",
    "'''\n",
    "def random_walk(g, n, start):\n",
    "    nn = 0\n",
    "    final_string = start\n",
    "    node = np.random.choice(g[start])\n",
    "    final_string += node\n",
    "    for i in range(n-2):\n",
    "        node = np.random.choice(g[node])\n",
    "        final_string += node\n",
    "    return final_string"
   ]
  },
  {
   "cell_type": "markdown",
   "metadata": {},
   "source": [
    "So this cell is defining the graph in the problem as a dictionary with adjacency lists as numpy arrays so I can take a random choice from a given source node. \n",
    "\n",
    "In my func: random_walk, we simulate a random walk in our given graph of length n. We can then define successful walks and run my function 1,000's of times to figure out how many successful runs we had."
   ]
  },
  {
   "cell_type": "code",
   "execution_count": 7,
   "metadata": {},
   "outputs": [
    {
     "name": "stdout",
     "output_type": "stream",
     "text": [
      "The probability that Oscar goes from E to C then to either H or E, then finally to L is: 0.04755\n"
     ]
    }
   ],
   "source": [
    "# Part A\n",
    "success_paths = ['ECHL', 'ECEL']\n",
    "\n",
    "num_tests = 100000\n",
    "num_success = 0\n",
    "for i in range(num_tests):\n",
    "    walk = random_walk(graph, 4, 'E')\n",
    "    if walk in success_paths:\n",
    "        num_success += 1\n",
    "\n",
    "prob_A = num_success / num_tests\n",
    "print(\"The probability that Oscar goes from E to C then to either H or E, then finally to L is: {}\".format(prob_A))"
   ]
  },
  {
   "cell_type": "markdown",
   "metadata": {},
   "source": [
    "So, I've defined a list: success_paths with elements 'ECHL' and 'ECEL' as these are the only ways Oscar can achieve success in part A. We then run random_walk with our given graph, length of 4, and starting node 'E' in a for loop num_tests times. If our random_walk is in success_paths, we then increment a value num_success. Finally to compute the probability we take num_success over num_tests.\n",
    "\n",
    "As one can tell from my output above, the probability of Oscar achieving success in part A with 100,000 tests is pretty close to 0.0486, which is the value I computed by hand."
   ]
  },
  {
   "cell_type": "code",
   "execution_count": 8,
   "metadata": {},
   "outputs": [
    {
     "name": "stdout",
     "output_type": "stream",
     "text": [
      "The probability that Stella goes from E then to the G either first or second: 0.43687\n"
     ]
    }
   ],
   "source": [
    "# Part B\n",
    "success_paths = ['EGR', 'EGL', 'EGE', 'EGH', 'ERG', 'ELG']\n",
    "\n",
    "num_tests = 100000\n",
    "num_success = 0\n",
    "for i in range(num_tests):\n",
    "    walk = random_walk(graph, 3, 'E')\n",
    "    if walk in success_paths:\n",
    "        num_success += 1\n",
    "\n",
    "prob_B = num_success / num_tests\n",
    "print(\"The probability that Stella goes from E then to the G either first or second: {}\".format(prob_B))"
   ]
  },
  {
   "cell_type": "markdown",
   "metadata": {},
   "source": [
    "Same as for part A, except I've defined my success_list as: [EGR, EGL, EGE, EGH, ERG, ELG], and run the same exact simulation as above...\n",
    "\n",
    "Also same as in part A, my work by hand was 0.4375, and my simulation produced a similar probability of 0.43826 with 100,000 runs. This is fairly close, and with tests with more runs we'd likely see a value closer to the probability we got by hand."
   ]
  },
  {
   "cell_type": "code",
   "execution_count": 9,
   "metadata": {},
   "outputs": [
    {
     "name": "stdout",
     "output_type": "stream",
     "text": [
      "The probability that Stella and Oscar meet at the same place in their first stop: 0.12625\n",
      "The probability that Stella and Oscar both meet at H in their second stop: 0.01275\n"
     ]
    }
   ],
   "source": [
    "# Part C\n",
    "# Part 1\n",
    "success_paths_1o = ['ER']\n",
    "success_paths_1s = ['GR']\n",
    "success_paths_2o = ['EL']\n",
    "success_paths_2s = ['GL']\n",
    "\n",
    "num_tests = 100000\n",
    "num_success = 0\n",
    "for i in range(num_tests):\n",
    "    walk_o = random_walk(graph, 2, 'E')\n",
    "    walk_s = random_walk(graph, 2, 'G')\n",
    "    if (walk_o in success_paths_1o) and (walk_s in success_paths_1s):\n",
    "        num_success += 1\n",
    "    if (walk_o in success_paths_2o) and (walk_s in success_paths_2s):\n",
    "        num_success += 1\n",
    "\n",
    "prob_C1 = num_success / num_tests\n",
    "print(\"The probability that Stella and Oscar meet at the same place in their first stop: {}\".format(prob_C1))\n",
    "\n",
    "# Part 2\n",
    "success_paths_o = ['ELH', 'EGH', 'ECH']\n",
    "success_paths_s = ['GLH']\n",
    "\n",
    "num_tests = 100000\n",
    "num_success = 0\n",
    "for i in range(num_tests):\n",
    "    walk_o = random_walk(graph, 3, 'E')\n",
    "    walk_s = random_walk(graph, 3, 'G')\n",
    "    if (walk_o in success_paths_o) and (walk_s in success_paths_s):\n",
    "        num_success += 1\n",
    "\n",
    "prob_C2 = num_success / num_tests\n",
    "print(\"The probability that Stella and Oscar both meet at H in their second stop: {}\".format(prob_C2))"
   ]
  },
  {
   "cell_type": "markdown",
   "metadata": {},
   "source": [
    "Lastly, for part 1 of this problem, I defined 2 seperate success lists because ER had to correspond to GR and EL to GL. If the lists corresponded from each walk then it was marked as a successful trial.\n",
    "\n",
    "For part 2 of this problem, since I only had one possible successful outcome for Stella, I could just test each walk outright in one if statement unlike part 1.\n",
    "\n",
    "Both parts of my simulated tests match reasonably closely to the values I computed by hand like in previous problems! This was honestly really cool to me that I could write these basic simulations to test my work done by hand."
   ]
  },
  {
   "cell_type": "markdown",
   "metadata": {},
   "source": [
    "***\n",
    "<a/ id='p3'></a>\n",
    "[Back to top](#top)\n",
    "\n",
    "### [20 points] Problem 3  \n",
    "\n",
    "As part of their Computer Science Jedi training, Zach and Rachel are having a lightsaber duel. The rules of the lightsaber duel are as follows:\n",
    "* The duel is composed of a number of rounds.\n",
    "* Each round consists of Zach practicing his sweetest Jedi moves and trying to strike Rachel, then Rachel practicing *her* best moves and trying to strike Zach.\n",
    "* If Zach manages to strike Rachel, then Zach is awarded a point, and similarly if Rachel manages to strike Zach, then Rachel is awarded a point.\n",
    "* If a round ends in a tie, then Zach and Rachel proceed to another round. If a round ends with one Jedi scoring a point but the other one does not, then the Jedi who scored a point wins the duel.\n",
    "\n",
    "Let $Z$ be the event that \"Zach wins the duel\", $E$ be the event that \"the duel ends after the first round of lightsaber strikes\", and $C$ be the event that \"the duel continues after the first round of lightsaber strikes\".  Suppose that the result of one lightsaber strike is independent of the other strikes, Zach successfully lands his lightsaber strikes with probability $p$, and Rachel lands her strikes with probability $q$.\n",
    "\n",
    "**Part A**: The duel will continue until Zach or Rachel wins.  What is the sample space $\\Omega$ for this \"experiment\"?  Represent the outcomes of individual lightsaber strikes by $H$ for a hit and $M$ for a miss, and assume that Zach has the first strike in each round. At the very least, your answer should include all of the events in $\\Omega$ that include one or two rounds."
   ]
  },
  {
   "cell_type": "markdown",
   "metadata": {},
   "source": [
    "$\\Omega=\\{HM, MH, MMMH, MMHM, HHMH, HHHM, ...\\}$\n",
    "\n"
   ]
  },
  {
   "cell_type": "markdown",
   "metadata": {},
   "source": [
    "**Part B**: Determine $P(Z \\mid E)$ in terms of $p$ and $q$.\n",
    "\n",
    "$p = \\text{prob. that Zach lands his strike}$\n",
    "\n",
    "$(1-p) = \\text{prob. that Zach DOES NOT land his strike}$\n",
    "\n",
    "$q = \\text{prob. that Rachel lands her strike}$\n",
    "\n",
    "$(1-q) = \\text{prob. that Rachel DOES NOT land her strike}$\n",
    "\n",
    "$P(Z \\mid E) = \\frac{1}{2}$\n",
    "\n",
    "I initially thought that this problem was: $p(q-1)$, but a piazza post led me in the right direction. The reason that the answer is just $\\frac{1}{2}$ is because it is given that the duel only lasts one round. This basically means that either Rachel hits and Zach misses or Zach hits and Rachel misses. So the probability that Zach wins given that it ends in one round is more clearly 1 out of 2.\n",
    "\n",
    "The only games that end in the first round are: \n",
    "\n",
    "$\\Omega=\\{HM, MH\\}$, and the only game where Zach wins is: $HM$, so he has a 0.5 chance of winning.\n",
    "\n",
    "In terms of p and q, the equation would look like: $\\boxed{\\frac{p(q-1)}{p(q-1)+q(p-1)}}$\n",
    "\n",
    "**Part C**: Explain why events $C$ and $Z$ are independent. "
   ]
  },
  {
   "cell_type": "markdown",
   "metadata": {},
   "source": [
    "$C$ and $Z$ are independent because Zach winning the duel has no impact on our knowledge of the duel continuing. I suppose we'd know that there's a higher likelihood of the duel lasting longer than 1 round but other than that, we don't really know. Also, knowing the duel continues after the first round, Zach has the same probability.\n",
    "\n",
    "Shown in more formal notation:\n",
    "\n",
    "$P(C\\mid Z) = P(C)$\n",
    "\n",
    "$P(Z\\mid C) = P(Z)$\n",
    "\n",
    "$P(Z \\cap C) = P(Z)\\cdot P(C)$\n",
    "\n",
    "Since these three properties hold true, we have independent events $Z$ and $C$"
   ]
  },
  {
   "cell_type": "markdown",
   "metadata": {},
   "source": [
    "**Part D**: Use the Law of Total Probability to show that $P(Z) = p(1-q) + (2pq - p - q +1) ~P(Z \\mid C)$. "
   ]
  },
  {
   "cell_type": "markdown",
   "metadata": {},
   "source": [
    "I don't even know where to begin on this one really without fully copying it from online."
   ]
  },
  {
   "cell_type": "markdown",
   "metadata": {},
   "source": [
    "**Part E**: Use the fact from **Part B** that $P(Z \\mid C) = P(Z)$ to determine $P(Z)$ in terms of $p$ and $q$."
   ]
  },
  {
   "cell_type": "markdown",
   "metadata": {},
   "source": [
    "Well, yet again, even only examining the sample space containing the games that lasted exactly two rounds or three rounds, given as:\n",
    "\n",
    "$\\Omega = \\{HHHM, HHMH, MMHM, MMMH, HHHHHM, HHHHMH, HHMMHM, HHMMMH, MMHHHM, MMHHMH, MMMMHM, MMMMMH \\}$\n",
    "\n",
    "As one can see, there are 12 possible outcomes for duels lasting either 2 or 3 rounds. Also, all the games that end in a M are Zach's victory. Zach still has a 0.5 probability of winning (still with repsect to p and q somehow). I feel like it would be a sum of probabilities much like in the simplified version in part B."
   ]
  },
  {
   "cell_type": "markdown",
   "metadata": {},
   "source": [
    "**Part F**: Explain why the answers to **Part B** and **Part E** are the same. "
   ]
  },
  {
   "cell_type": "markdown",
   "metadata": {},
   "source": [
    "It doesn't matter whether there is 1 round or a million, Zach still has 1 half of the outcomes in his favor. I'm not entirely sure how this relates to p, and q compared to part B."
   ]
  },
  {
   "cell_type": "markdown",
   "metadata": {},
   "source": [
    "**Part G**: Explain the significance of the solution technique for $P(Z)$ outlined in **Part D** and **Part E**.  Why did we go this route instead of computing $P(Z)$ directly?  Can we always use such techniques?  What assumption did we need to make in order to use this solution approach?"
   ]
  },
  {
   "cell_type": "markdown",
   "metadata": {},
   "source": [
    "Im not entirely sure, but I know if I had more time I could have figured out a way to mathematically show $P(Z)$ with the equation I figured out in part B, and with my simulation capabilities below:"
   ]
  },
  {
   "cell_type": "code",
   "execution_count": 10,
   "metadata": {},
   "outputs": [
    {
     "name": "stdout",
     "output_type": "stream",
     "text": [
      "probability Zach wins, given the duel ends in the first round is 0.600\n",
      "probability Zach wins, given the duel continues after the first round (and ends in the second round) is 0.608\n"
     ]
    }
   ],
   "source": [
    "p = [0.55, 0.45]\n",
    "q = [0.45, 0.55]\n",
    "\n",
    "Z = np.array([\"H\",\"M\"])\n",
    "R = np.array([\"H\",\"M\"])\n",
    "\n",
    "def one_round(p1,p2,pp,qq):\n",
    "    x = np.random.choice(p1,p=pp)\n",
    "    y = np.random.choice(p2,p=qq)\n",
    "    return x + y\n",
    "\n",
    "def duel(p1, p2, pp, qq, n):\n",
    "    s = \"\"\n",
    "    for i in range(n):\n",
    "        x = one_round(p1, p2, pp, qq)\n",
    "        s += x\n",
    "        if (x == \"HM\" or x == \"MH\") and (n != 1) and (i < n-1):\n",
    "            return None\n",
    "        if (x == \"MM\" or x == \"HH\") and ((n == 1) or (i == n-1)):\n",
    "            return None\n",
    "    return s\n",
    "\n",
    "success1 = ['HM']\n",
    "success_count1 = 0\n",
    "l1 = list()\n",
    "\n",
    "success2 = ['HHHM', 'MMHM']\n",
    "success_count2 = 0\n",
    "l2 = list()\n",
    "\n",
    "for i in range(10000):\n",
    "    l1_x = duel(Z,R,p,q,1)\n",
    "    if l1_x != None:\n",
    "        l1.append(l1_x)\n",
    "    if l1_x in success1:\n",
    "        success_count1 += 1\n",
    "        \n",
    "    l2_x = duel(Z,R,p,q,2)\n",
    "    if l2_x != None:\n",
    "        l2.append(l2_x)\n",
    "    if l2_x in success2:\n",
    "        success_count2 += 1\n",
    "\n",
    "p1 = success_count1 / len(l1)\n",
    "p2 = success_count2 / len(l2)\n",
    "\n",
    "print(\"probability Zach wins, given the duel ends in the first round is {0:.3f}\".format(p1))\n",
    "print(\"probability Zach wins, given the duel continues after the first round (and ends in the second round) is {0:.3f}\".format(p2))"
   ]
  },
  {
   "cell_type": "markdown",
   "metadata": {},
   "source": [
    "So when $p=q=0.5$, Zach wins roughly half of the games when the duel ends in the first round as well as when the duel continues (and finishes) in the second round. Actually, anytime $p=q$, they each win roughly the same amount of duels. However, my second test was when $p = 0.55,\\ q = 0.45$. This produced roughly 0.6 of wins going to Zach."
   ]
  },
  {
   "cell_type": "markdown",
   "metadata": {},
   "source": [
    "***\n",
    "<a id='p4'></a>\n",
    "[Back to top](#top)\n",
    "\n",
    "### [25 points] Problem 4\n",
    "\n",
    "In this problem you will write some code to simulate the game of **Miniopoly** (a very rough approximation of [Monopoly](https://en.wikipedia.org/wiki/Monopoly_(game)).  The game consists of a round board with 40 \"squares\" numbered from $0$ to $39$, where squares $0$ and would-be $40$ are [coincident](https://en.wikipedia.org/wiki/Coincident) and called **GO**.  A player starts on **GO** with \\\\$200 in their pocket.  On each turn the player rolls a pair of dice and then moves a number of spaces equal to the sum of the dice.  Landing on different squares have different results: \n",
    "\n",
    "- Squares 3, 7, 15, 22, 33, and 36 cause you to draw a card.  The cards tell you to collect either \\\\$50 or \\\\$250 or pay the bank \\\\$50.  There is always an equal probability associated with each of these possible cards.\n",
    "\n",
    "\n",
    "- Squares 0, 10, and 20 do not trigger any action \n",
    "\n",
    "\n",
    "- Square 30 is **Go To Jail**, which sends the player directly to **Jail** and ends the turn \n",
    "\n",
    "- If a player starts a turn from **Jail** she rolls two dice: \n",
    "\n",
    "    - If the player rolls doubles (i.e. the dice have equal values) the player moves from Square 10 a number of squares equal to the sum of the dice\n",
    "    \n",
    "    - If the player rolls anything other than doubles she pays the bank \\$20 and remains in **Jail** \n",
    "    \n",
    "\n",
    "- If the player passes or lands on **GO** she collects \\$200. \n",
    "\n",
    "- If the player lands on any other square not mentioned above, she pays the bank \\$25. \n",
    "\n",
    "\n",
    "If at any point the player has \\$0 or less they go bankrupt and the game ends.\n",
    "\n",
    "See [here](http://www.cs.colorado.edu/~tonyewong/home/resources/miniopoly_example.png) for an example of the Miniopoly board layout.\n",
    "\n",
    "<br>\n",
    "\n",
    "**Part A**: Complete the function miniopoly_turn below. The function should simulate one turn of Miniopoly.  It should take as arguments the player's current location on the board as well as the player's current cash reserves, and return the player's new location and cash reserves after the turn has completed. Note that if a player goes bankrupt during the game you should return their cash as 0 instead of a negative value.  "
   ]
  },
  {
   "cell_type": "code",
   "execution_count": 11,
   "metadata": {},
   "outputs": [],
   "source": [
    "def roll_die():\n",
    "    dice = np.array([1,2,3,4,5,6])\n",
    "    return np.random.choice(dice)\n",
    "\n",
    "def draw_card():\n",
    "    cards = np.array([50,250,-50])\n",
    "    return np.random.choice(cards)\n",
    "\n",
    "def decide_cash(state, roll):\n",
    "    if state == 'jail':\n",
    "        return -20\n",
    "    if (state - roll) < 0:\n",
    "        return 200\n",
    "    if state == 0 or state == 10 or state == 20:\n",
    "        return 0\n",
    "    if state == 3 or state == 7 or state == 15 or state == 22 or state == 33 or state == 36:\n",
    "        return draw_card()\n",
    "    else:\n",
    "        return -25\n",
    "    \n",
    "def miniopoly_turn(state, cash):\n",
    "    if state == 'jail':\n",
    "        d1 = roll_die()\n",
    "        d2 = roll_die()\n",
    "        roll = d1 + d2\n",
    "        if d1 == d2:\n",
    "            state = 10 + (roll)\n",
    "            cash += decide_cash(state, roll)\n",
    "        else:\n",
    "            state = 'jail'\n",
    "            cash += decide_cash(state, roll)\n",
    "        return state, cash\n",
    "    roll = roll_die() + roll_die()\n",
    "    state = (state + roll) % 39\n",
    "    cash += decide_cash(state, roll)\n",
    "    if state == 30:\n",
    "        state = 'jail'\n",
    "    return state, cash"
   ]
  },
  {
   "cell_type": "markdown",
   "metadata": {},
   "source": [
    "### Roll Die\n",
    "So this function is incredibly straight forward: it just returns 1-6, the roll of a single die.\n",
    "\n",
    "### Draw Card\n",
    "This function just returns the result of drawing a card, also very simple.\n",
    "\n",
    "### Decide Cash\n",
    "So this function is a little complicated and although it works, I would've liked to rewrite the code to be more human friendly. For example, in my miniopoly turn function, when I'm in jail, I decided to return my state as 'jail'. This accounts for the first if statement where I just return -20 for the \"jail fee\". The next if statement gets handled bizarrely, but it does in fact work for giving out the \"Passing Go\" money in the larger picture. Then I handle the cases where the player would draw a card and where no action occurs. Finally, I handle all other cases where the user simply owes the bank $25.\n",
    "\n",
    "### Miniopoly Turn\n",
    "This function takes the turn of the user. It handles everything properly, but it is kind of messy."
   ]
  },
  {
   "cell_type": "markdown",
   "metadata": {},
   "source": [
    "**Part B**: Use your function from **Part A** to Simulate at least 10000 25-turn games of Miniopoly and make a frequency histogram of the player's cash at the end of the game."
   ]
  },
  {
   "cell_type": "code",
   "execution_count": 12,
   "metadata": {},
   "outputs": [],
   "source": [
    "cash_list = list()\n",
    "jail_list = list()\n",
    "num_games = 10000\n",
    "for i in range(num_games):\n",
    "    state = 0\n",
    "    cash = 200\n",
    "    jail_count = 0\n",
    "    for ii in range(25):\n",
    "        state, cash = miniopoly_turn(state, cash)\n",
    "        if state == 'jail':\n",
    "            jail_count += 1\n",
    "        if cash == 0:\n",
    "            cash_list.append(cash)\n",
    "            jail_list.append(jail_count)\n",
    "            break\n",
    "    jail_list.append(jail_count)\n",
    "    cash_list.append(cash)\n",
    "#     print(\"game #{}, state = {}, cash = {}, jail count = {}\".format(i, state, cash, jail_count))"
   ]
  },
  {
   "cell_type": "code",
   "execution_count": 13,
   "metadata": {},
   "outputs": [
    {
     "data": {
      "text/plain": [
       "Text(0, 0.5, 'Frequency')"
      ]
     },
     "execution_count": 13,
     "metadata": {},
     "output_type": "execute_result"
    },
    {
     "data": {
      "image/png": "[encoded data removed]",
      "text/plain": [
       "<Figure size 864x576 with 1 Axes>"
      ]
     },
     "metadata": {
      "needs_background": "light"
     },
     "output_type": "display_data"
    }
   ],
   "source": [
    "df = pd.DataFrame(cash_list)\n",
    "\n",
    "my_bins = range(0,2200,200)\n",
    "\n",
    "count, div = np.histogram(df, bins = my_bins)\n",
    "df.hist(bins=div, figsize=(12,8), color='#019126')\n",
    "plt.title('Cash Frequency Histogram for 25-turn Monopoly games')\n",
    "plt.xlabel('Finishing Money ($)')\n",
    "plt.ylabel('Frequency')"
   ]
  },
  {
   "cell_type": "markdown",
   "metadata": {},
   "source": [
    "So above, I actually simulate the games with nested for loops. Again, messy because it takes a while, but I suppose that is probably just the nature with simulating things 100,000 times. If this was something more important than monopoly games, it might be worth it to distinguish going to jail on seperate occasions and staying in jail for a while (which I didn't distinguish). I create lists that hold a players cash and jail count, and although I know my interpretation is lazy, I believe it wouldn't change our numbers to drastically. Then, I produce my cash frequency histogram using only the cash data."
   ]
  },
  {
   "cell_type": "markdown",
   "metadata": {},
   "source": [
    "**Part C**: Use your code from **Part A** to estimate the probability that a player goes bankrupt in a game that only lasts 25 turns."
   ]
  },
  {
   "cell_type": "code",
   "execution_count": 14,
   "metadata": {},
   "outputs": [
    {
     "name": "stdout",
     "output_type": "stream",
     "text": [
      "The probability someone goes bankrupt in a game only lasting 25 turns is: 0.091\n"
     ]
    }
   ],
   "source": [
    "d = {'Cash': cash_list, 'Jail Count': jail_list}\n",
    "\n",
    "special_df = pd.DataFrame(d, columns=['Cash', 'Jail Count'])\n",
    "\n",
    "special_df['bankrupt'] = special_df['Cash'].apply(lambda row: 1 if row==0 else 0)\n",
    "\n",
    "bankrupt_games = special_df['bankrupt'].sum()\n",
    "num_games = 10000\n",
    "prob_bankrupt = bankrupt_games / num_games\n",
    "print(\"The probability someone goes bankrupt in a game only lasting 25 turns is: {}\".format(prob_bankrupt))"
   ]
  },
  {
   "cell_type": "markdown",
   "metadata": {},
   "source": [
    "**Part D**: Use your code from **Part A** to estimate the probability that a player goes bankrupt in a 25 turn game  _given_ that they went to **Jail** at least twice.  Is a player more or less likely to go bankrupt if they've been to **Jail** twice?  "
   ]
  },
  {
   "cell_type": "code",
   "execution_count": 15,
   "metadata": {},
   "outputs": [
    {
     "name": "stdout",
     "output_type": "stream",
     "text": [
      "The probability someone goes bankrupt GIVEN that they went to jail twice or more is: 0.14272\n"
     ]
    }
   ],
   "source": [
    "special_df['jail_gte_twice'] = special_df['Jail Count'].apply(lambda row: 1 if row>=2 else 0)\n",
    "\n",
    "num_players_jail_gte_twice = special_df['jail_gte_twice'].sum()\n",
    "\n",
    "num_players_bankrupt_and_lotsa_jail = len(special_df[(special_df['jail_gte_twice'] == 1) & (special_df['bankrupt'] == 1)])\n",
    "\n",
    "prob_bankrupt_given_jail = num_players_bankrupt_and_lotsa_jail / num_players_jail_gte_twice\n",
    "\n",
    "print(\"The probability someone goes bankrupt GIVEN that they went to jail twice or more is: {0:.5f}\".format(prob_bankrupt_given_jail))"
   ]
  },
  {
   "cell_type": "markdown",
   "metadata": {},
   "source": [
    "Initially, I have to apologize for my variable names. As I got done, I was thinking to myself that they are pretty obnoxious.\n",
    "\n",
    "Anyways, for this problem, I create a new column in my dataframe that holds a 1 if someone has been to jail 2 or more times, and a 0 otherwise. I use this column to get the total number of players who've been to jail twice or more. I then use this column and the column I created previously called $bankrupt$ that holds a 1 if a player went bankrupt to get the number of players of both bankrupt."
   ]
  },
  {
   "cell_type": "markdown",
   "metadata": {},
   "source": [
    "**Part E**: Use your code from **Part A** to estimate the probability (either directly or using Bayes' Rule) that a player has gone to jail at least twice, given that the player went bankrupt in the first 25 turns."
   ]
  },
  {
   "cell_type": "code",
   "execution_count": 16,
   "metadata": {},
   "outputs": [
    {
     "ename": "NameError",
     "evalue": "name 'num_players_bankrupt_given_lotsa_jail' is not defined",
     "output_type": "error",
     "traceback": [
      "\u001b[0;31m---------------------------------------------------------------------------\u001b[0m",
      "\u001b[0;31mNameError\u001b[0m                                 Traceback (most recent call last)",
      "\u001b[0;32m<ipython-input-16-96977fcb5393>\u001b[0m in \u001b[0;36m<module>\u001b[0;34m\u001b[0m\n\u001b[1;32m      3\u001b[0m \u001b[0mnum_players_lotsa_jail_given_bankrupt\u001b[0m \u001b[0;34m=\u001b[0m \u001b[0mlen\u001b[0m\u001b[0;34m(\u001b[0m\u001b[0mspecial_df\u001b[0m\u001b[0;34m[\u001b[0m\u001b[0;34m(\u001b[0m\u001b[0mspecial_df\u001b[0m\u001b[0;34m[\u001b[0m\u001b[0;34m'jail_gte_twice'\u001b[0m\u001b[0;34m]\u001b[0m \u001b[0;34m==\u001b[0m \u001b[0;36m1\u001b[0m\u001b[0;34m)\u001b[0m \u001b[0;34m&\u001b[0m \u001b[0;34m(\u001b[0m\u001b[0mspecial_df\u001b[0m\u001b[0;34m[\u001b[0m\u001b[0;34m'bankrupt'\u001b[0m\u001b[0;34m]\u001b[0m \u001b[0;34m==\u001b[0m \u001b[0;36m1\u001b[0m\u001b[0;34m)\u001b[0m\u001b[0;34m]\u001b[0m\u001b[0;34m)\u001b[0m\u001b[0;34m\u001b[0m\u001b[0;34m\u001b[0m\u001b[0m\n\u001b[1;32m      4\u001b[0m \u001b[0;34m\u001b[0m\u001b[0m\n\u001b[0;32m----> 5\u001b[0;31m \u001b[0mprob_jail_given_bankrupt\u001b[0m \u001b[0;34m=\u001b[0m \u001b[0mnum_players_bankrupt_given_lotsa_jail\u001b[0m \u001b[0;34m/\u001b[0m \u001b[0mnum_players_bankrupt\u001b[0m\u001b[0;34m\u001b[0m\u001b[0;34m\u001b[0m\u001b[0m\n\u001b[0m\u001b[1;32m      6\u001b[0m \u001b[0;34m\u001b[0m\u001b[0m\n\u001b[1;32m      7\u001b[0m \u001b[0mprint\u001b[0m\u001b[0;34m(\u001b[0m\u001b[0;34m\"The probability someone goes to jail twice or more GIVEN that they went bankrupt is: {0:.5f}\"\u001b[0m\u001b[0;34m.\u001b[0m\u001b[0mformat\u001b[0m\u001b[0;34m(\u001b[0m\u001b[0mprob_jail_given_bankrupt\u001b[0m\u001b[0;34m)\u001b[0m\u001b[0;34m)\u001b[0m\u001b[0;34m\u001b[0m\u001b[0;34m\u001b[0m\u001b[0m\n",
      "\u001b[0;31mNameError\u001b[0m: name 'num_players_bankrupt_given_lotsa_jail' is not defined"
     ]
    }
   ],
   "source": [
    "num_players_bankrupt = special_df['bankrupt'].sum()\n",
    "\n",
    "num_players_lotsa_jail_given_bankrupt = len(special_df[(special_df['jail_gte_twice'] == 1) & (special_df['bankrupt'] == 1)])\n",
    "\n",
    "prob_jail_given_bankrupt = num_players_bankrupt_given_lotsa_jail / num_players_bankrupt\n",
    "\n",
    "print(\"The probability someone goes to jail twice or more GIVEN that they went bankrupt is: {0:.5f}\".format(prob_jail_given_bankrupt))"
   ]
  },
  {
   "cell_type": "markdown",
   "metadata": {},
   "source": [
    "So, I wasn't particularly sure how to apply Bayes Thm. in this case because parts D and E seem like inverses of each other. I used the total number of bankrupt people or total number of people who'd been to jail twice or more as my denomenator. I then made my numerator the total number of people that went bankrupt and went to jail twice or more. This was the same for D and E, and I'm not 100% this is correct, but it seems plausible.\n",
    "\n",
    "ALSO: After both D and E, it seems more likely that going bankrupt is a more likely factor in determining if the player will go to jail. It seems more players who went to jail frequently also went bankrupt, and it seems like a lot of people who went to jail (even frequently) didn't necessarily go bankrupt more."
   ]
  },
  {
   "cell_type": "markdown",
   "metadata": {},
   "source": [
    "***\n",
    "<a id='p5'></a>\n",
    "[Back to top](#top)\n",
    "\n",
    "### [15 points] Problem 5\n",
    "\n",
    "To get published in an academic journal, you have to prove something \"interesting.\"  As a result, most academics begin their research by investigating hypotheses that, all else equal, are unlikely to be true.  Suppose each research project begins with a research *claim* that has a 10% chance of being correct.\n",
    "\n",
    "They then perform a study that satisfies the following two properties:\n",
    "\n",
    "    1) The probability that they correctly *find* an important result given that their *claim* is true is 50%\n",
    "    2) The probability that they incorrectly *find* an important result given that their *claim* is false is 5%\n",
    "\n",
    "If they *find* an important result they are published.  What is the probability that their *claim* was true, given that they were published?"
   ]
  },
  {
   "cell_type": "markdown",
   "metadata": {},
   "source": []
  },
  {
   "cell_type": "markdown",
   "metadata": {},
   "source": [
    "I solved this problem using a tree:\n",
    "\n",
    "$RC=$Research Claim\n",
    "\n",
    "$T=$True\n",
    "\n",
    "$F=$False\n",
    "\n",
    "$P=$Published\n",
    "\n",
    "$NP=$Not Published\n",
    "\n",
    "\n",
    "`>  R  C\n",
    "   /   \\\n",
    "  T     F\n",
    " / \\   / \\\n",
    "P  NP P  NP   \n",
    "`\n",
    "\n",
    "We have a 10% chance of having a true claim and a 90% chance of ahving a false claim. Given our research team's experiemntal properties, given our claim is true, we'd see a 50/50 chance of being published. Given an RC that's false, we'd have a 5% chance of being published. This gave me the equations of:\n",
    "\n",
    "$P(P)=T\\cdot P + F\\cdot P = (0.1)(0.5)+(0.9)(0.05)=0.05+0.045=0.095$\n",
    "\n",
    "$P(T\\cap P)=P(T)\\cdot P(P)=(0.1)(0.5)=0.05$\n",
    "\n",
    "$P(T\\mid P)=\\frac{P(T\\cap P)}{P(P)}=\\frac{0.05}{0.095}=0.5263$\n",
    "\n",
    "This happens to closely resemble my simulation below:"
   ]
  },
  {
   "cell_type": "code",
   "execution_count": null,
   "metadata": {},
   "outputs": [],
   "source": [
    "research_claims = np.array([True, False])\n",
    "\n",
    "true_findings = np.array(['P', 'NP'])\n",
    "\n",
    "false_findings = np.array(['P', 'NP'])\n",
    "\n",
    "def choose_claim(np_arr):\n",
    "    return np.random.choice(np_arr, p=[0.1, 0.9])\n",
    "\n",
    "num_imp = 0\n",
    "num_imp_true = 0\n",
    "\n",
    "for i in range(100000):\n",
    "    TorF = choose_claim(research_claims)\n",
    "    if (TorF):\n",
    "        tf = np.random.choice(true_findings, p=[0.5, 0.5])\n",
    "        if tf == 'P':\n",
    "            num_imp += 1\n",
    "            num_imp_true += 1\n",
    "    else:\n",
    "        ff = np.random.choice(false_findings, p=[0.05, 0.95])\n",
    "        if ff == 'P':\n",
    "            num_imp += 1\n",
    "    \n",
    "print(num_imp_true / num_imp)"
   ]
  },
  {
   "cell_type": "code",
   "execution_count": null,
   "metadata": {},
   "outputs": [],
   "source": []
  }
 ],
 "metadata": {
  "kernelspec": {
   "display_name": "Python 3",
   "language": "python",
   "name": "python3"
  },
  "language_info": {
   "codemirror_mode": {
    "name": "ipython",
    "version": 3
   },
   "file_extension": ".py",
   "mimetype": "text/x-python",
   "name": "python",
   "nbconvert_exporter": "python",
   "pygments_lexer": "ipython3",
   "version": "3.7.4"
  }
 },
 "nbformat": 4,
 "nbformat_minor": 2
}
